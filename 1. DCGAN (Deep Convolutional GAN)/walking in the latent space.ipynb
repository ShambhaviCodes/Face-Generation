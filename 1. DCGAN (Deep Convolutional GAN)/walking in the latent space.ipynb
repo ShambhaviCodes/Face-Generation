{
 "cells": [
  {
   "cell_type": "markdown",
   "metadata": {},
   "source": [
    "## Walking in the Latent Space\n",
    "\n",
    "### 1. Import Libraries"
   ]
  },
  {
   "cell_type": "code",
   "execution_count": null,
   "metadata": {},
   "outputs": [],
   "source": [
    "import torch\n",
    "\n",
    "import os\n",
    "import numpy as np\n",
    "from matplotlib import pyplot as plt\n",
    "\n",
    "from config import *\n",
    "from models import Generator"
   ]
  },
  {
   "cell_type": "markdown",
   "metadata": {},
   "source": [
    "### 2. Device Configuration"
   ]
  },
  {
   "cell_type": "code",
   "execution_count": null,
   "metadata": {},
   "outputs": [],
   "source": [
    "device = 'cuda' if torch.cuda.is_available() else 'cpu'"
   ]
  },
  {
   "cell_type": "markdown",
   "metadata": {},
   "source": [
    "### 3. Prepare Generator"
   ]
  },
  {
   "cell_type": "code",
   "execution_count": null,
   "metadata": {},
   "outputs": [],
   "source": [
    "path = os.path.join(config.weights_path, 'Face_Generator_Epoch_{}.pth'.format(config.num_epochs))"
   ]
  },
  {
   "cell_type": "code",
   "execution_count": null,
   "metadata": {},
   "outputs": [],
   "source": [
    "G = Generator().to(device)\n",
    "G.load_state_dict(torch.load(path))"
   ]
  },
  {
   "cell_type": "markdown",
   "metadata": {},
   "source": [
    "### 4. Walking in the Latent Space\n",
    "#### 4.1 Noise"
   ]
  },
  {
   "cell_type": "code",
   "execution_count": null,
   "metadata": {},
   "outputs": [],
   "source": [
    "z_1 = torch.empty(1, config.noise_dim, 1, 1).uniform_(-1, 1).to(device)\n",
    "z_2 = torch.empty(1, config.noise_dim, 1, 1).uniform_(-1, 1).to(device)\n",
    "\n",
    "latent_space = np.linspace(0, 1, 10)"
   ]
  },
  {
   "cell_type": "markdown",
   "metadata": {},
   "source": [
    "#### 4.2 Plot and Save"
   ]
  },
  {
   "cell_type": "code",
   "execution_count": null,
   "metadata": {},
   "outputs": [],
   "source": [
    "fig, axs = plt.subplots(nrows=1, ncols=10, figsize=(20, 2),  constrained_layout=True)\n",
    "\n",
    "for ax, alpha in zip(axs.flat, latent_space):\n",
    "    ax.axis('off')\n",
    "    \n",
    "    z = alpha * z_1 + (1-alpha) * z_2\n",
    "    \n",
    "    image = G(z)\n",
    "    image = image.detach().cpu().numpy().squeeze()\n",
    "    image = image.transpose(1, 2, 0)\n",
    "    image = (image+1)/2\n",
    "    ax.imshow(image)\n",
    "    \n",
    "fig.savefig(os.path.join(config.inference_path, 'Generated_Face_Interpolation.png')"
   ]
  },
  {
   "cell_type": "code",
   "execution_count": null,
   "metadata": {},
   "outputs": [],
   "source": []
  }
 ],
 "metadata": {
  "kernelspec": {
   "display_name": "Python 3",
   "language": "python",
   "name": "python3"
  },
  "language_info": {
   "codemirror_mode": {
    "name": "ipython",
    "version": 3
   },
   "file_extension": ".py",
   "mimetype": "text/x-python",
   "name": "python",
   "nbconvert_exporter": "python",
   "pygments_lexer": "ipython3",
   "version": "3.7.6"
  }
 },
 "nbformat": 4,
 "nbformat_minor": 4
}
